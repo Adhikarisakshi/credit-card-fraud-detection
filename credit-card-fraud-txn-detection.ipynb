{
 "cells": [
  {
   "cell_type": "code",
   "execution_count": 1,
   "id": "369f6ca5",
   "metadata": {
    "execution": {
     "iopub.execute_input": "2021-07-23T15:03:11.610665Z",
     "iopub.status.busy": "2021-07-23T15:03:11.609468Z",
     "iopub.status.idle": "2021-07-23T15:03:12.931804Z",
     "shell.execute_reply": "2021-07-23T15:03:12.930971Z",
     "shell.execute_reply.started": "2021-07-23T15:01:24.350166Z"
    },
    "papermill": {
     "duration": 1.35516,
     "end_time": "2021-07-23T15:03:12.932036",
     "exception": false,
     "start_time": "2021-07-23T15:03:11.576876",
     "status": "completed"
    },
    "tags": []
   },
   "outputs": [],
   "source": [
    "import pandas as pd\n",
    "import numpy as np\n",
    "import seaborn as sns\n",
    "%matplotlib inline\n",
    "import matplotlib.pyplot as plt\n",
    "from sklearn.model_selection import train_test_split"
   ]
  },
  {
   "cell_type": "code",
   "execution_count": 2,
   "id": "4b4eb94a",
   "metadata": {
    "execution": {
     "iopub.execute_input": "2021-07-23T15:03:12.995882Z",
     "iopub.status.busy": "2021-07-23T15:03:12.995094Z",
     "iopub.status.idle": "2021-07-23T15:03:18.085635Z",
     "shell.execute_reply": "2021-07-23T15:03:18.084514Z",
     "shell.execute_reply.started": "2021-07-23T15:01:24.365598Z"
    },
    "papermill": {
     "duration": 5.123853,
     "end_time": "2021-07-23T15:03:18.085814",
     "exception": false,
     "start_time": "2021-07-23T15:03:12.961961",
     "status": "completed"
    },
    "tags": []
   },
   "outputs": [],
   "source": [
    "df=pd.read_csv(\"../input/credit-card-fraud-detection/creditcard.csv\")"
   ]
  },
  {
   "cell_type": "code",
   "execution_count": 3,
   "id": "b0c11fc1",
   "metadata": {
    "execution": {
     "iopub.execute_input": "2021-07-23T15:03:18.154930Z",
     "iopub.status.busy": "2021-07-23T15:03:18.153959Z",
     "iopub.status.idle": "2021-07-23T15:03:18.184956Z",
     "shell.execute_reply": "2021-07-23T15:03:18.185463Z",
     "shell.execute_reply.started": "2021-07-23T15:01:27.702680Z"
    },
    "papermill": {
     "duration": 0.073639,
     "end_time": "2021-07-23T15:03:18.185645",
     "exception": false,
     "start_time": "2021-07-23T15:03:18.112006",
     "status": "completed"
    },
    "tags": []
   },
   "outputs": [
    {
     "data": {
      "text/html": [
       "<div>\n",
       "<style scoped>\n",
       "    .dataframe tbody tr th:only-of-type {\n",
       "        vertical-align: middle;\n",
       "    }\n",
       "\n",
       "    .dataframe tbody tr th {\n",
       "        vertical-align: top;\n",
       "    }\n",
       "\n",
       "    .dataframe thead th {\n",
       "        text-align: right;\n",
       "    }\n",
       "</style>\n",
       "<table border=\"1\" class=\"dataframe\">\n",
       "  <thead>\n",
       "    <tr style=\"text-align: right;\">\n",
       "      <th></th>\n",
       "      <th>Time</th>\n",
       "      <th>V1</th>\n",
       "      <th>V2</th>\n",
       "      <th>V3</th>\n",
       "      <th>V4</th>\n",
       "      <th>V5</th>\n",
       "      <th>V6</th>\n",
       "      <th>V7</th>\n",
       "      <th>V8</th>\n",
       "      <th>V9</th>\n",
       "      <th>...</th>\n",
       "      <th>V21</th>\n",
       "      <th>V22</th>\n",
       "      <th>V23</th>\n",
       "      <th>V24</th>\n",
       "      <th>V25</th>\n",
       "      <th>V26</th>\n",
       "      <th>V27</th>\n",
       "      <th>V28</th>\n",
       "      <th>Amount</th>\n",
       "      <th>Class</th>\n",
       "    </tr>\n",
       "  </thead>\n",
       "  <tbody>\n",
       "    <tr>\n",
       "      <th>0</th>\n",
       "      <td>0.0</td>\n",
       "      <td>-1.359807</td>\n",
       "      <td>-0.072781</td>\n",
       "      <td>2.536347</td>\n",
       "      <td>1.378155</td>\n",
       "      <td>-0.338321</td>\n",
       "      <td>0.462388</td>\n",
       "      <td>0.239599</td>\n",
       "      <td>0.098698</td>\n",
       "      <td>0.363787</td>\n",
       "      <td>...</td>\n",
       "      <td>-0.018307</td>\n",
       "      <td>0.277838</td>\n",
       "      <td>-0.110474</td>\n",
       "      <td>0.066928</td>\n",
       "      <td>0.128539</td>\n",
       "      <td>-0.189115</td>\n",
       "      <td>0.133558</td>\n",
       "      <td>-0.021053</td>\n",
       "      <td>149.62</td>\n",
       "      <td>0</td>\n",
       "    </tr>\n",
       "    <tr>\n",
       "      <th>1</th>\n",
       "      <td>0.0</td>\n",
       "      <td>1.191857</td>\n",
       "      <td>0.266151</td>\n",
       "      <td>0.166480</td>\n",
       "      <td>0.448154</td>\n",
       "      <td>0.060018</td>\n",
       "      <td>-0.082361</td>\n",
       "      <td>-0.078803</td>\n",
       "      <td>0.085102</td>\n",
       "      <td>-0.255425</td>\n",
       "      <td>...</td>\n",
       "      <td>-0.225775</td>\n",
       "      <td>-0.638672</td>\n",
       "      <td>0.101288</td>\n",
       "      <td>-0.339846</td>\n",
       "      <td>0.167170</td>\n",
       "      <td>0.125895</td>\n",
       "      <td>-0.008983</td>\n",
       "      <td>0.014724</td>\n",
       "      <td>2.69</td>\n",
       "      <td>0</td>\n",
       "    </tr>\n",
       "    <tr>\n",
       "      <th>2</th>\n",
       "      <td>1.0</td>\n",
       "      <td>-1.358354</td>\n",
       "      <td>-1.340163</td>\n",
       "      <td>1.773209</td>\n",
       "      <td>0.379780</td>\n",
       "      <td>-0.503198</td>\n",
       "      <td>1.800499</td>\n",
       "      <td>0.791461</td>\n",
       "      <td>0.247676</td>\n",
       "      <td>-1.514654</td>\n",
       "      <td>...</td>\n",
       "      <td>0.247998</td>\n",
       "      <td>0.771679</td>\n",
       "      <td>0.909412</td>\n",
       "      <td>-0.689281</td>\n",
       "      <td>-0.327642</td>\n",
       "      <td>-0.139097</td>\n",
       "      <td>-0.055353</td>\n",
       "      <td>-0.059752</td>\n",
       "      <td>378.66</td>\n",
       "      <td>0</td>\n",
       "    </tr>\n",
       "    <tr>\n",
       "      <th>3</th>\n",
       "      <td>1.0</td>\n",
       "      <td>-0.966272</td>\n",
       "      <td>-0.185226</td>\n",
       "      <td>1.792993</td>\n",
       "      <td>-0.863291</td>\n",
       "      <td>-0.010309</td>\n",
       "      <td>1.247203</td>\n",
       "      <td>0.237609</td>\n",
       "      <td>0.377436</td>\n",
       "      <td>-1.387024</td>\n",
       "      <td>...</td>\n",
       "      <td>-0.108300</td>\n",
       "      <td>0.005274</td>\n",
       "      <td>-0.190321</td>\n",
       "      <td>-1.175575</td>\n",
       "      <td>0.647376</td>\n",
       "      <td>-0.221929</td>\n",
       "      <td>0.062723</td>\n",
       "      <td>0.061458</td>\n",
       "      <td>123.50</td>\n",
       "      <td>0</td>\n",
       "    </tr>\n",
       "    <tr>\n",
       "      <th>4</th>\n",
       "      <td>2.0</td>\n",
       "      <td>-1.158233</td>\n",
       "      <td>0.877737</td>\n",
       "      <td>1.548718</td>\n",
       "      <td>0.403034</td>\n",
       "      <td>-0.407193</td>\n",
       "      <td>0.095921</td>\n",
       "      <td>0.592941</td>\n",
       "      <td>-0.270533</td>\n",
       "      <td>0.817739</td>\n",
       "      <td>...</td>\n",
       "      <td>-0.009431</td>\n",
       "      <td>0.798278</td>\n",
       "      <td>-0.137458</td>\n",
       "      <td>0.141267</td>\n",
       "      <td>-0.206010</td>\n",
       "      <td>0.502292</td>\n",
       "      <td>0.219422</td>\n",
       "      <td>0.215153</td>\n",
       "      <td>69.99</td>\n",
       "      <td>0</td>\n",
       "    </tr>\n",
       "  </tbody>\n",
       "</table>\n",
       "<p>5 rows × 31 columns</p>\n",
       "</div>"
      ],
      "text/plain": [
       "   Time        V1        V2        V3        V4        V5        V6        V7  \\\n",
       "0   0.0 -1.359807 -0.072781  2.536347  1.378155 -0.338321  0.462388  0.239599   \n",
       "1   0.0  1.191857  0.266151  0.166480  0.448154  0.060018 -0.082361 -0.078803   \n",
       "2   1.0 -1.358354 -1.340163  1.773209  0.379780 -0.503198  1.800499  0.791461   \n",
       "3   1.0 -0.966272 -0.185226  1.792993 -0.863291 -0.010309  1.247203  0.237609   \n",
       "4   2.0 -1.158233  0.877737  1.548718  0.403034 -0.407193  0.095921  0.592941   \n",
       "\n",
       "         V8        V9  ...       V21       V22       V23       V24       V25  \\\n",
       "0  0.098698  0.363787  ... -0.018307  0.277838 -0.110474  0.066928  0.128539   \n",
       "1  0.085102 -0.255425  ... -0.225775 -0.638672  0.101288 -0.339846  0.167170   \n",
       "2  0.247676 -1.514654  ...  0.247998  0.771679  0.909412 -0.689281 -0.327642   \n",
       "3  0.377436 -1.387024  ... -0.108300  0.005274 -0.190321 -1.175575  0.647376   \n",
       "4 -0.270533  0.817739  ... -0.009431  0.798278 -0.137458  0.141267 -0.206010   \n",
       "\n",
       "        V26       V27       V28  Amount  Class  \n",
       "0 -0.189115  0.133558 -0.021053  149.62      0  \n",
       "1  0.125895 -0.008983  0.014724    2.69      0  \n",
       "2 -0.139097 -0.055353 -0.059752  378.66      0  \n",
       "3 -0.221929  0.062723  0.061458  123.50      0  \n",
       "4  0.502292  0.219422  0.215153   69.99      0  \n",
       "\n",
       "[5 rows x 31 columns]"
      ]
     },
     "execution_count": 3,
     "metadata": {},
     "output_type": "execute_result"
    }
   ],
   "source": [
    "df.head()"
   ]
  },
  {
   "cell_type": "code",
   "execution_count": 4,
   "id": "2095b3d8",
   "metadata": {
    "execution": {
     "iopub.execute_input": "2021-07-23T15:03:18.245460Z",
     "iopub.status.busy": "2021-07-23T15:03:18.244761Z",
     "iopub.status.idle": "2021-07-23T15:03:18.248930Z",
     "shell.execute_reply": "2021-07-23T15:03:18.249402Z",
     "shell.execute_reply.started": "2021-07-23T15:01:27.739207Z"
    },
    "papermill": {
     "duration": 0.036647,
     "end_time": "2021-07-23T15:03:18.249598",
     "exception": false,
     "start_time": "2021-07-23T15:03:18.212951",
     "status": "completed"
    },
    "tags": []
   },
   "outputs": [
    {
     "data": {
      "text/plain": [
       "(284807, 31)"
      ]
     },
     "execution_count": 4,
     "metadata": {},
     "output_type": "execute_result"
    }
   ],
   "source": [
    "df.shape"
   ]
  },
  {
   "cell_type": "code",
   "execution_count": 5,
   "id": "552ba4a9",
   "metadata": {
    "execution": {
     "iopub.execute_input": "2021-07-23T15:03:18.317816Z",
     "iopub.status.busy": "2021-07-23T15:03:18.317035Z",
     "iopub.status.idle": "2021-07-23T15:03:18.359837Z",
     "shell.execute_reply": "2021-07-23T15:03:18.359288Z",
     "shell.execute_reply.started": "2021-07-23T15:01:27.750910Z"
    },
    "papermill": {
     "duration": 0.083579,
     "end_time": "2021-07-23T15:03:18.359994",
     "exception": false,
     "start_time": "2021-07-23T15:03:18.276415",
     "status": "completed"
    },
    "tags": []
   },
   "outputs": [
    {
     "data": {
      "text/html": [
       "<div>\n",
       "<style scoped>\n",
       "    .dataframe tbody tr th:only-of-type {\n",
       "        vertical-align: middle;\n",
       "    }\n",
       "\n",
       "    .dataframe tbody tr th {\n",
       "        vertical-align: top;\n",
       "    }\n",
       "\n",
       "    .dataframe thead th {\n",
       "        text-align: right;\n",
       "    }\n",
       "</style>\n",
       "<table border=\"1\" class=\"dataframe\">\n",
       "  <thead>\n",
       "    <tr style=\"text-align: right;\">\n",
       "      <th></th>\n",
       "      <th>Time</th>\n",
       "      <th>Amount</th>\n",
       "      <th>Class</th>\n",
       "    </tr>\n",
       "  </thead>\n",
       "  <tbody>\n",
       "    <tr>\n",
       "      <th>count</th>\n",
       "      <td>284807.000000</td>\n",
       "      <td>284807.000000</td>\n",
       "      <td>284807.000000</td>\n",
       "    </tr>\n",
       "    <tr>\n",
       "      <th>mean</th>\n",
       "      <td>94813.859575</td>\n",
       "      <td>88.349619</td>\n",
       "      <td>0.001727</td>\n",
       "    </tr>\n",
       "    <tr>\n",
       "      <th>std</th>\n",
       "      <td>47488.145955</td>\n",
       "      <td>250.120109</td>\n",
       "      <td>0.041527</td>\n",
       "    </tr>\n",
       "    <tr>\n",
       "      <th>min</th>\n",
       "      <td>0.000000</td>\n",
       "      <td>0.000000</td>\n",
       "      <td>0.000000</td>\n",
       "    </tr>\n",
       "    <tr>\n",
       "      <th>25%</th>\n",
       "      <td>54201.500000</td>\n",
       "      <td>5.600000</td>\n",
       "      <td>0.000000</td>\n",
       "    </tr>\n",
       "    <tr>\n",
       "      <th>50%</th>\n",
       "      <td>84692.000000</td>\n",
       "      <td>22.000000</td>\n",
       "      <td>0.000000</td>\n",
       "    </tr>\n",
       "    <tr>\n",
       "      <th>75%</th>\n",
       "      <td>139320.500000</td>\n",
       "      <td>77.165000</td>\n",
       "      <td>0.000000</td>\n",
       "    </tr>\n",
       "    <tr>\n",
       "      <th>max</th>\n",
       "      <td>172792.000000</td>\n",
       "      <td>25691.160000</td>\n",
       "      <td>1.000000</td>\n",
       "    </tr>\n",
       "  </tbody>\n",
       "</table>\n",
       "</div>"
      ],
      "text/plain": [
       "                Time         Amount          Class\n",
       "count  284807.000000  284807.000000  284807.000000\n",
       "mean    94813.859575      88.349619       0.001727\n",
       "std     47488.145955     250.120109       0.041527\n",
       "min         0.000000       0.000000       0.000000\n",
       "25%     54201.500000       5.600000       0.000000\n",
       "50%     84692.000000      22.000000       0.000000\n",
       "75%    139320.500000      77.165000       0.000000\n",
       "max    172792.000000   25691.160000       1.000000"
      ]
     },
     "execution_count": 5,
     "metadata": {},
     "output_type": "execute_result"
    }
   ],
   "source": [
    "df[['Time','Amount','Class']].describe()"
   ]
  },
  {
   "cell_type": "code",
   "execution_count": 6,
   "id": "0282374c",
   "metadata": {
    "execution": {
     "iopub.execute_input": "2021-07-23T15:03:18.420646Z",
     "iopub.status.busy": "2021-07-23T15:03:18.419674Z",
     "iopub.status.idle": "2021-07-23T15:03:18.424408Z",
     "shell.execute_reply": "2021-07-23T15:03:18.423766Z",
     "shell.execute_reply.started": "2021-07-23T15:01:27.825851Z"
    },
    "papermill": {
     "duration": 0.037114,
     "end_time": "2021-07-23T15:03:18.424569",
     "exception": false,
     "start_time": "2021-07-23T15:03:18.387455",
     "status": "completed"
    },
    "tags": []
   },
   "outputs": [
    {
     "data": {
      "text/plain": [
       "Index(['Time', 'V1', 'V2', 'V3', 'V4', 'V5', 'V6', 'V7', 'V8', 'V9', 'V10',\n",
       "       'V11', 'V12', 'V13', 'V14', 'V15', 'V16', 'V17', 'V18', 'V19', 'V20',\n",
       "       'V21', 'V22', 'V23', 'V24', 'V25', 'V26', 'V27', 'V28', 'Amount',\n",
       "       'Class'],\n",
       "      dtype='object')"
      ]
     },
     "execution_count": 6,
     "metadata": {},
     "output_type": "execute_result"
    }
   ],
   "source": [
    "df.columns"
   ]
  },
  {
   "cell_type": "code",
   "execution_count": 7,
   "id": "90683f89",
   "metadata": {
    "execution": {
     "iopub.execute_input": "2021-07-23T15:03:18.486306Z",
     "iopub.status.busy": "2021-07-23T15:03:18.485559Z",
     "iopub.status.idle": "2021-07-23T15:03:18.501666Z",
     "shell.execute_reply": "2021-07-23T15:03:18.502188Z",
     "shell.execute_reply.started": "2021-07-23T15:01:27.838197Z"
    },
    "papermill": {
     "duration": 0.048868,
     "end_time": "2021-07-23T15:03:18.502356",
     "exception": false,
     "start_time": "2021-07-23T15:03:18.453488",
     "status": "completed"
    },
    "tags": []
   },
   "outputs": [
    {
     "data": {
      "text/plain": [
       "Time      False\n",
       "V1        False\n",
       "V2        False\n",
       "V3        False\n",
       "V4        False\n",
       "V5        False\n",
       "V6        False\n",
       "V7        False\n",
       "V8        False\n",
       "V9        False\n",
       "V10       False\n",
       "V11       False\n",
       "V12       False\n",
       "V13       False\n",
       "V14       False\n",
       "V15       False\n",
       "V16       False\n",
       "V17       False\n",
       "V18       False\n",
       "V19       False\n",
       "V20       False\n",
       "V21       False\n",
       "V22       False\n",
       "V23       False\n",
       "V24       False\n",
       "V25       False\n",
       "V26       False\n",
       "V27       False\n",
       "V28       False\n",
       "Amount    False\n",
       "Class     False\n",
       "dtype: bool"
      ]
     },
     "execution_count": 7,
     "metadata": {},
     "output_type": "execute_result"
    }
   ],
   "source": [
    "df.isna().any()"
   ]
  },
  {
   "cell_type": "code",
   "execution_count": 8,
   "id": "af902492",
   "metadata": {
    "execution": {
     "iopub.execute_input": "2021-07-23T15:03:18.562366Z",
     "iopub.status.busy": "2021-07-23T15:03:18.561602Z",
     "iopub.status.idle": "2021-07-23T15:03:18.588042Z",
     "shell.execute_reply": "2021-07-23T15:03:18.587471Z",
     "shell.execute_reply.started": "2021-07-23T15:01:27.879186Z"
    },
    "papermill": {
     "duration": 0.057875,
     "end_time": "2021-07-23T15:03:18.588180",
     "exception": false,
     "start_time": "2021-07-23T15:03:18.530305",
     "status": "completed"
    },
    "tags": []
   },
   "outputs": [
    {
     "data": {
      "text/plain": [
       "Time      0\n",
       "V1        0\n",
       "V2        0\n",
       "V3        0\n",
       "V4        0\n",
       "V5        0\n",
       "V6        0\n",
       "V7        0\n",
       "V8        0\n",
       "V9        0\n",
       "V10       0\n",
       "V11       0\n",
       "V12       0\n",
       "V13       0\n",
       "V14       0\n",
       "V15       0\n",
       "V16       0\n",
       "V17       0\n",
       "V18       0\n",
       "V19       0\n",
       "V20       0\n",
       "V21       0\n",
       "V22       0\n",
       "V23       0\n",
       "V24       0\n",
       "V25       0\n",
       "V26       0\n",
       "V27       0\n",
       "V28       0\n",
       "Amount    0\n",
       "Class     0\n",
       "dtype: int64"
      ]
     },
     "execution_count": 8,
     "metadata": {},
     "output_type": "execute_result"
    }
   ],
   "source": [
    "df.isnull().sum()"
   ]
  },
  {
   "cell_type": "code",
   "execution_count": 9,
   "id": "41f974c7",
   "metadata": {
    "execution": {
     "iopub.execute_input": "2021-07-23T15:03:18.653134Z",
     "iopub.status.busy": "2021-07-23T15:03:18.652386Z",
     "iopub.status.idle": "2021-07-23T15:03:18.656385Z",
     "shell.execute_reply": "2021-07-23T15:03:18.655694Z",
     "shell.execute_reply.started": "2021-07-23T15:01:27.916235Z"
    },
    "papermill": {
     "duration": 0.038993,
     "end_time": "2021-07-23T15:03:18.656564",
     "exception": false,
     "start_time": "2021-07-23T15:03:18.617571",
     "status": "completed"
    },
    "tags": []
   },
   "outputs": [
    {
     "data": {
      "text/plain": [
       "284802    0\n",
       "284803    0\n",
       "284804    0\n",
       "284805    0\n",
       "284806    0\n",
       "Name: Class, dtype: int64"
      ]
     },
     "execution_count": 9,
     "metadata": {},
     "output_type": "execute_result"
    }
   ],
   "source": [
    "df['Class'].tail()"
   ]
  },
  {
   "cell_type": "markdown",
   "id": "013d7592",
   "metadata": {
    "papermill": {
     "duration": 0.028886,
     "end_time": "2021-07-23T15:03:18.714023",
     "exception": false,
     "start_time": "2021-07-23T15:03:18.685137",
     "status": "completed"
    },
    "tags": []
   },
   "source": [
    "# percentage of total not fraud transaction"
   ]
  },
  {
   "cell_type": "code",
   "execution_count": 10,
   "id": "65909ae4",
   "metadata": {
    "execution": {
     "iopub.execute_input": "2021-07-23T15:03:18.775743Z",
     "iopub.status.busy": "2021-07-23T15:03:18.775092Z",
     "iopub.status.idle": "2021-07-23T15:03:20.389743Z",
     "shell.execute_reply": "2021-07-23T15:03:20.390242Z",
     "shell.execute_reply.started": "2021-07-23T15:01:27.929203Z"
    },
    "papermill": {
     "duration": 1.647278,
     "end_time": "2021-07-23T15:03:20.390418",
     "exception": false,
     "start_time": "2021-07-23T15:03:18.743140",
     "status": "completed"
    },
    "tags": []
   },
   "outputs": [
    {
     "name": "stdout",
     "output_type": "stream",
     "text": [
      "perentage of total not fraud transaction in the dataset  99.82725143693798\n"
     ]
    }
   ],
   "source": [
    "nfcount=0\n",
    "notfraud=df.Class\n",
    "for i in range(len(notfraud)):\n",
    "    if notfraud[i]==0:\n",
    "     nfcount=nfcount+1\n",
    "  \n",
    "nfcount\n",
    "per_nf=(nfcount/len(notfraud))*100\n",
    "print(\"perentage of total not fraud transaction in the dataset \",per_nf)"
   ]
  },
  {
   "cell_type": "code",
   "execution_count": 11,
   "id": "49695bfa",
   "metadata": {
    "execution": {
     "iopub.execute_input": "2021-07-23T15:03:20.453249Z",
     "iopub.status.busy": "2021-07-23T15:03:20.452518Z",
     "iopub.status.idle": "2021-07-23T15:03:20.454697Z",
     "shell.execute_reply": "2021-07-23T15:03:20.455201Z",
     "shell.execute_reply.started": "2021-07-23T15:01:29.621457Z"
    },
    "papermill": {
     "duration": 0.035981,
     "end_time": "2021-07-23T15:03:20.455372",
     "exception": false,
     "start_time": "2021-07-23T15:03:20.419391",
     "status": "completed"
    },
    "tags": []
   },
   "outputs": [],
   "source": [
    "#percentage of total fraud transaction"
   ]
  },
  {
   "cell_type": "code",
   "execution_count": 12,
   "id": "0d88ad62",
   "metadata": {
    "execution": {
     "iopub.execute_input": "2021-07-23T15:03:20.517506Z",
     "iopub.status.busy": "2021-07-23T15:03:20.516832Z",
     "iopub.status.idle": "2021-07-23T15:03:22.097304Z",
     "shell.execute_reply": "2021-07-23T15:03:22.096776Z",
     "shell.execute_reply.started": "2021-07-23T15:01:29.630168Z"
    },
    "papermill": {
     "duration": 1.612705,
     "end_time": "2021-07-23T15:03:22.097470",
     "exception": false,
     "start_time": "2021-07-23T15:03:20.484765",
     "status": "completed"
    },
    "tags": []
   },
   "outputs": [
    {
     "name": "stdout",
     "output_type": "stream",
     "text": [
      "perentage of total fraud transaction in the dataset  0.1727485630620034\n"
     ]
    }
   ],
   "source": [
    "fcount=0\n",
    "fraud=df.Class\n",
    "for i in range(len(fraud)):\n",
    "    if fraud[i]==1:\n",
    "      fcount=fcount+1\n",
    "  \n",
    "fcount\n",
    "per_f=(fcount/len(fraud))*100\n",
    "print(\"perentage of total fraud transaction in the dataset \",per_f)"
   ]
  },
  {
   "cell_type": "code",
   "execution_count": null,
   "id": "22e3d325",
   "metadata": {
    "papermill": {
     "duration": 0.036345,
     "end_time": "2021-07-23T15:03:22.176365",
     "exception": false,
     "start_time": "2021-07-23T15:03:22.140020",
     "status": "completed"
    },
    "tags": []
   },
   "outputs": [],
   "source": []
  },
  {
   "cell_type": "code",
   "execution_count": 13,
   "id": "19237a66",
   "metadata": {
    "execution": {
     "iopub.execute_input": "2021-07-23T15:03:22.242961Z",
     "iopub.status.busy": "2021-07-23T15:03:22.241894Z",
     "iopub.status.idle": "2021-07-23T15:03:22.293010Z",
     "shell.execute_reply": "2021-07-23T15:03:22.293549Z",
     "shell.execute_reply.started": "2021-07-23T15:01:31.289887Z"
    },
    "papermill": {
     "duration": 0.087906,
     "end_time": "2021-07-23T15:03:22.293731",
     "exception": false,
     "start_time": "2021-07-23T15:03:22.205825",
     "status": "completed"
    },
    "tags": []
   },
   "outputs": [
    {
     "data": {
      "text/html": [
       "<div>\n",
       "<style scoped>\n",
       "    .dataframe tbody tr th:only-of-type {\n",
       "        vertical-align: middle;\n",
       "    }\n",
       "\n",
       "    .dataframe tbody tr th {\n",
       "        vertical-align: top;\n",
       "    }\n",
       "\n",
       "    .dataframe thead th {\n",
       "        text-align: right;\n",
       "    }\n",
       "</style>\n",
       "<table border=\"1\" class=\"dataframe\">\n",
       "  <thead>\n",
       "    <tr style=\"text-align: right;\">\n",
       "      <th></th>\n",
       "      <th>Fraud Transaction</th>\n",
       "      <th>Genuine Transaction</th>\n",
       "    </tr>\n",
       "  </thead>\n",
       "  <tbody>\n",
       "    <tr>\n",
       "      <th>0</th>\n",
       "      <td>0</td>\n",
       "      <td>0</td>\n",
       "    </tr>\n",
       "    <tr>\n",
       "      <th>1</th>\n",
       "      <td>0</td>\n",
       "      <td>0</td>\n",
       "    </tr>\n",
       "    <tr>\n",
       "      <th>2</th>\n",
       "      <td>0</td>\n",
       "      <td>0</td>\n",
       "    </tr>\n",
       "    <tr>\n",
       "      <th>3</th>\n",
       "      <td>0</td>\n",
       "      <td>0</td>\n",
       "    </tr>\n",
       "    <tr>\n",
       "      <th>4</th>\n",
       "      <td>0</td>\n",
       "      <td>0</td>\n",
       "    </tr>\n",
       "    <tr>\n",
       "      <th>...</th>\n",
       "      <td>...</td>\n",
       "      <td>...</td>\n",
       "    </tr>\n",
       "    <tr>\n",
       "      <th>284802</th>\n",
       "      <td>0</td>\n",
       "      <td>0</td>\n",
       "    </tr>\n",
       "    <tr>\n",
       "      <th>284803</th>\n",
       "      <td>0</td>\n",
       "      <td>0</td>\n",
       "    </tr>\n",
       "    <tr>\n",
       "      <th>284804</th>\n",
       "      <td>0</td>\n",
       "      <td>0</td>\n",
       "    </tr>\n",
       "    <tr>\n",
       "      <th>284805</th>\n",
       "      <td>0</td>\n",
       "      <td>0</td>\n",
       "    </tr>\n",
       "    <tr>\n",
       "      <th>284806</th>\n",
       "      <td>0</td>\n",
       "      <td>0</td>\n",
       "    </tr>\n",
       "  </tbody>\n",
       "</table>\n",
       "<p>284807 rows × 2 columns</p>\n",
       "</div>"
      ],
      "text/plain": [
       "        Fraud Transaction  Genuine Transaction\n",
       "0                       0                    0\n",
       "1                       0                    0\n",
       "2                       0                    0\n",
       "3                       0                    0\n",
       "4                       0                    0\n",
       "...                   ...                  ...\n",
       "284802                  0                    0\n",
       "284803                  0                    0\n",
       "284804                  0                    0\n",
       "284805                  0                    0\n",
       "284806                  0                    0\n",
       "\n",
       "[284807 rows x 2 columns]"
      ]
     },
     "execution_count": 13,
     "metadata": {},
     "output_type": "execute_result"
    }
   ],
   "source": [
    "plot_data=pd.DataFrame()\n",
    "plot_data['Fraud Transaction']=fraud\n",
    "plot_data['Genuine Transaction']=notfraud\n",
    "plot_data"
   ]
  },
  {
   "cell_type": "code",
   "execution_count": 14,
   "id": "8c0d0661",
   "metadata": {
    "execution": {
     "iopub.execute_input": "2021-07-23T15:03:22.376073Z",
     "iopub.status.busy": "2021-07-23T15:03:22.375257Z",
     "iopub.status.idle": "2021-07-23T15:03:27.433852Z",
     "shell.execute_reply": "2021-07-23T15:03:27.433209Z",
     "shell.execute_reply.started": "2021-07-23T15:01:31.351265Z"
    },
    "papermill": {
     "duration": 5.110511,
     "end_time": "2021-07-23T15:03:27.434001",
     "exception": false,
     "start_time": "2021-07-23T15:03:22.323490",
     "status": "completed"
    },
    "tags": []
   },
   "outputs": [
    {
     "data": {
      "text/plain": [
       "<AxesSubplot:title={'center':'bar plot for fraud VS genuine transations'}, xlabel='Fraud Transaction', ylabel='Genuine Transaction'>"
      ]
     },
     "execution_count": 14,
     "metadata": {},
     "output_type": "execute_result"
    },
    {
     "data": {
      "image/png": "[encoded data removed]",
      "text/plain": [
       "<Figure size 432x288 with 1 Axes>"
      ]
     },
     "metadata": {
      "needs_background": "light"
     },
     "output_type": "display_data"
    }
   ],
   "source": [
    "plt.title(\"bar plot for fraud VS genuine transations\")\n",
    "sns.barplot(x='Fraud Transaction',y='Genuine Transaction', data= plot_data, palette=\"Blues\",edgecolor='w')"
   ]
  },
  {
   "cell_type": "code",
   "execution_count": 15,
   "id": "bd503e13",
   "metadata": {
    "execution": {
     "iopub.execute_input": "2021-07-23T15:03:27.524508Z",
     "iopub.status.busy": "2021-07-23T15:03:27.523064Z",
     "iopub.status.idle": "2021-07-23T15:03:27.729884Z",
     "shell.execute_reply": "2021-07-23T15:03:27.729275Z",
     "shell.execute_reply.started": "2021-07-23T15:01:36.679302Z"
    },
    "papermill": {
     "duration": 0.264617,
     "end_time": "2021-07-23T15:03:27.730031",
     "exception": false,
     "start_time": "2021-07-23T15:03:27.465414",
     "status": "completed"
    },
    "tags": []
   },
   "outputs": [
    {
     "data": {
      "text/plain": [
       "Text(0.5, 1.0, 'time vs amount ')"
      ]
     },
     "execution_count": 15,
     "metadata": {},
     "output_type": "execute_result"
    },
    {
     "data": {
      "image/png": "[encoded data removed]",
      "text/plain": [
       "<Figure size 432x288 with 1 Axes>"
      ]
     },
     "metadata": {
      "needs_background": "light"
     },
     "output_type": "display_data"
    }
   ],
   "source": [
    "x=df.Amount\n",
    "y=df.Time\n",
    "plt.plot(x,y)\n",
    "plt.title(\"time vs amount \")"
   ]
  },
  {
   "cell_type": "code",
   "execution_count": 16,
   "id": "27045326",
   "metadata": {
    "execution": {
     "iopub.execute_input": "2021-07-23T15:03:27.823376Z",
     "iopub.status.busy": "2021-07-23T15:03:27.816876Z",
     "iopub.status.idle": "2021-07-23T15:03:29.365440Z",
     "shell.execute_reply": "2021-07-23T15:03:29.364798Z",
     "shell.execute_reply.started": "2021-07-23T15:01:36.921140Z"
    },
    "papermill": {
     "duration": 1.602921,
     "end_time": "2021-07-23T15:03:29.365611",
     "exception": false,
     "start_time": "2021-07-23T15:03:27.762690",
     "status": "completed"
    },
    "tags": []
   },
   "outputs": [
    {
     "name": "stderr",
     "output_type": "stream",
     "text": [
      "/opt/conda/lib/python3.7/site-packages/seaborn/distributions.py:2557: FutureWarning: `distplot` is a deprecated function and will be removed in a future version. Please adapt your code to use either `displot` (a figure-level function with similar flexibility) or `histplot` (an axes-level function for histograms).\n",
      "  warnings.warn(msg, FutureWarning)\n"
     ]
    },
    {
     "data": {
      "image/png": "[encoded data removed]",
      "text/plain": [
       "<Figure size 720x576 with 1 Axes>"
      ]
     },
     "metadata": {
      "needs_background": "light"
     },
     "output_type": "display_data"
    }
   ],
   "source": [
    "plt.figure(figsize=(10,8))\n",
    "plt.title(\"amount distribution\")\n",
    "sns.distplot(df.Amount, color='red');"
   ]
  },
  {
   "cell_type": "code",
   "execution_count": 17,
   "id": "af4ab409",
   "metadata": {
    "execution": {
     "iopub.execute_input": "2021-07-23T15:03:29.439748Z",
     "iopub.status.busy": "2021-07-23T15:03:29.438982Z",
     "iopub.status.idle": "2021-07-23T15:03:29.441166Z",
     "shell.execute_reply": "2021-07-23T15:03:29.441706Z",
     "shell.execute_reply.started": "2021-07-23T15:01:38.376110Z"
    },
    "papermill": {
     "duration": 0.041764,
     "end_time": "2021-07-23T15:03:29.441911",
     "exception": false,
     "start_time": "2021-07-23T15:03:29.400147",
     "status": "completed"
    },
    "tags": []
   },
   "outputs": [],
   "source": [
    "#outliers"
   ]
  },
  {
   "cell_type": "code",
   "execution_count": 18,
   "id": "3f56015d",
   "metadata": {
    "execution": {
     "iopub.execute_input": "2021-07-23T15:03:29.514959Z",
     "iopub.status.busy": "2021-07-23T15:03:29.514231Z",
     "iopub.status.idle": "2021-07-23T15:03:29.897002Z",
     "shell.execute_reply": "2021-07-23T15:03:29.896418Z",
     "shell.execute_reply.started": "2021-07-23T15:01:38.383750Z"
    },
    "papermill": {
     "duration": 0.420692,
     "end_time": "2021-07-23T15:03:29.897164",
     "exception": false,
     "start_time": "2021-07-23T15:03:29.476472",
     "status": "completed"
    },
    "tags": []
   },
   "outputs": [
    {
     "name": "stderr",
     "output_type": "stream",
     "text": [
      "/opt/conda/lib/python3.7/site-packages/seaborn/_decorators.py:43: FutureWarning: Pass the following variable as a keyword arg: x. From version 0.12, the only valid positional argument will be `data`, and passing other arguments without an explicit keyword will result in an error or misinterpretation.\n",
      "  FutureWarning\n",
      "/opt/conda/lib/python3.7/site-packages/seaborn/_decorators.py:43: FutureWarning: Pass the following variable as a keyword arg: x. From version 0.12, the only valid positional argument will be `data`, and passing other arguments without an explicit keyword will result in an error or misinterpretation.\n",
      "  FutureWarning\n"
     ]
    },
    {
     "data": {
      "text/plain": [
       "<AxesSubplot:xlabel='Time'>"
      ]
     },
     "execution_count": 18,
     "metadata": {},
     "output_type": "execute_result"
    },
    {
     "data": {
      "image/png": "[encoded data removed]",
      "text/plain": [
       "<Figure size 1440x1080 with 2 Axes>"
      ]
     },
     "metadata": {
      "needs_background": "light"
     },
     "output_type": "display_data"
    }
   ],
   "source": [
    "plt.figure(figsize=(20,15))\n",
    "plt.subplot(4,4,1)\n",
    "sns.boxplot(df.Amount)\n",
    "plt.subplot(4,4,2)\n",
    "sns.boxplot(df.Time)"
   ]
  },
  {
   "cell_type": "code",
   "execution_count": 19,
   "id": "b515c2c4",
   "metadata": {
    "execution": {
     "iopub.execute_input": "2021-07-23T15:03:30.112276Z",
     "iopub.status.busy": "2021-07-23T15:03:30.106024Z",
     "iopub.status.idle": "2021-07-23T15:03:30.780075Z",
     "shell.execute_reply": "2021-07-23T15:03:30.778361Z",
     "shell.execute_reply.started": "2021-07-23T15:01:38.982062Z"
    },
    "papermill": {
     "duration": 0.848092,
     "end_time": "2021-07-23T15:03:30.780238",
     "exception": false,
     "start_time": "2021-07-23T15:03:29.932146",
     "status": "completed"
    },
    "tags": []
   },
   "outputs": [
    {
     "data": {
      "image/png": "[encoded data removed]",
      "text/plain": [
       "<Figure size 1152x576 with 1 Axes>"
      ]
     },
     "metadata": {
      "needs_background": "light"
     },
     "output_type": "display_data"
    }
   ],
   "source": [
    "fig ,ax =plt.subplots(figsize=(16,8))\n",
    "ax.scatter(df.Amount,df.Time)\n",
    "ax.set_xlabel('Amount')\n",
    "ax.set_ylabel('Time')\n",
    "plt.show()"
   ]
  },
  {
   "cell_type": "code",
   "execution_count": 20,
   "id": "56ebc1a9",
   "metadata": {
    "execution": {
     "iopub.execute_input": "2021-07-23T15:03:30.867081Z",
     "iopub.status.busy": "2021-07-23T15:03:30.866060Z",
     "iopub.status.idle": "2021-07-23T15:03:30.869153Z",
     "shell.execute_reply": "2021-07-23T15:03:30.868525Z",
     "shell.execute_reply.started": "2021-07-23T15:01:39.680062Z"
    },
    "papermill": {
     "duration": 0.049958,
     "end_time": "2021-07-23T15:03:30.869287",
     "exception": false,
     "start_time": "2021-07-23T15:03:30.819329",
     "status": "completed"
    },
    "tags": []
   },
   "outputs": [],
   "source": [
    "#correalation matrix"
   ]
  },
  {
   "cell_type": "code",
   "execution_count": 21,
   "id": "88a4402a",
   "metadata": {
    "execution": {
     "iopub.execute_input": "2021-07-23T15:03:30.953281Z",
     "iopub.status.busy": "2021-07-23T15:03:30.952305Z",
     "iopub.status.idle": "2021-07-23T15:03:32.438559Z",
     "shell.execute_reply": "2021-07-23T15:03:32.437949Z",
     "shell.execute_reply.started": "2021-07-23T15:01:39.685673Z"
    },
    "papermill": {
     "duration": 1.531994,
     "end_time": "2021-07-23T15:03:32.438709",
     "exception": false,
     "start_time": "2021-07-23T15:03:30.906715",
     "status": "completed"
    },
    "tags": []
   },
   "outputs": [
    {
     "data": {
      "image/png": "[encoded data removed]",
      "text/plain": [
       "<Figure size 1008x648 with 2 Axes>"
      ]
     },
     "metadata": {
      "needs_background": "light"
     },
     "output_type": "display_data"
    }
   ],
   "source": [
    "correalation_metrics = df.corr()\n",
    "fig=plt.figure(figsize = (14,9))\n",
    "sns.heatmap(correalation_metrics, vmax=.9, square= True)\n",
    "plt.show()"
   ]
  },
  {
   "cell_type": "code",
   "execution_count": 22,
   "id": "b837492c",
   "metadata": {
    "execution": {
     "iopub.execute_input": "2021-07-23T15:03:32.520353Z",
     "iopub.status.busy": "2021-07-23T15:03:32.519576Z",
     "iopub.status.idle": "2021-07-23T15:03:32.522240Z",
     "shell.execute_reply": "2021-07-23T15:03:32.521756Z",
     "shell.execute_reply.started": "2021-07-23T15:01:41.201396Z"
    },
    "papermill": {
     "duration": 0.044673,
     "end_time": "2021-07-23T15:03:32.522378",
     "exception": false,
     "start_time": "2021-07-23T15:03:32.477705",
     "status": "completed"
    },
    "tags": []
   },
   "outputs": [],
   "source": [
    "#to start with modelling \n",
    "#train - test splitting\n",
    "#80%-train , 20% to test"
   ]
  },
  {
   "cell_type": "code",
   "execution_count": 23,
   "id": "0d845b81",
   "metadata": {
    "execution": {
     "iopub.execute_input": "2021-07-23T15:03:32.607937Z",
     "iopub.status.busy": "2021-07-23T15:03:32.606223Z",
     "iopub.status.idle": "2021-07-23T15:03:32.612779Z",
     "shell.execute_reply": "2021-07-23T15:03:32.611909Z",
     "shell.execute_reply.started": "2021-07-23T15:01:41.209307Z"
    },
    "papermill": {
     "duration": 0.0533,
     "end_time": "2021-07-23T15:03:32.612986",
     "exception": false,
     "start_time": "2021-07-23T15:03:32.559686",
     "status": "completed"
    },
    "tags": []
   },
   "outputs": [
    {
     "data": {
      "text/plain": [
       "Index(['Time', 'V1', 'V2', 'V3', 'V4', 'V5', 'V6', 'V7', 'V8', 'V9', 'V10',\n",
       "       'V11', 'V12', 'V13', 'V14', 'V15', 'V16', 'V17', 'V18', 'V19', 'V20',\n",
       "       'V21', 'V22', 'V23', 'V24', 'V25', 'V26', 'V27', 'V28', 'Amount',\n",
       "       'Class'],\n",
       "      dtype='object')"
      ]
     },
     "execution_count": 23,
     "metadata": {},
     "output_type": "execute_result"
    }
   ],
   "source": [
    "df.columns"
   ]
  },
  {
   "cell_type": "code",
   "execution_count": 24,
   "id": "01052742",
   "metadata": {
    "execution": {
     "iopub.execute_input": "2021-07-23T15:03:32.751887Z",
     "iopub.status.busy": "2021-07-23T15:03:32.747712Z",
     "iopub.status.idle": "2021-07-23T15:03:32.846832Z",
     "shell.execute_reply": "2021-07-23T15:03:32.847357Z",
     "shell.execute_reply.started": "2021-07-23T15:01:41.236819Z"
    },
    "papermill": {
     "duration": 0.19321,
     "end_time": "2021-07-23T15:03:32.847585",
     "exception": false,
     "start_time": "2021-07-23T15:03:32.654375",
     "status": "completed"
    },
    "scrolled": true,
    "tags": []
   },
   "outputs": [
    {
     "data": {
      "text/html": [
       "<div>\n",
       "<style scoped>\n",
       "    .dataframe tbody tr th:only-of-type {\n",
       "        vertical-align: middle;\n",
       "    }\n",
       "\n",
       "    .dataframe tbody tr th {\n",
       "        vertical-align: top;\n",
       "    }\n",
       "\n",
       "    .dataframe thead th {\n",
       "        text-align: right;\n",
       "    }\n",
       "</style>\n",
       "<table border=\"1\" class=\"dataframe\">\n",
       "  <thead>\n",
       "    <tr style=\"text-align: right;\">\n",
       "      <th></th>\n",
       "      <th>Time</th>\n",
       "      <th>V1</th>\n",
       "      <th>V2</th>\n",
       "      <th>V3</th>\n",
       "      <th>V4</th>\n",
       "      <th>V5</th>\n",
       "      <th>V6</th>\n",
       "      <th>V7</th>\n",
       "      <th>V8</th>\n",
       "      <th>V9</th>\n",
       "      <th>...</th>\n",
       "      <th>V20</th>\n",
       "      <th>V21</th>\n",
       "      <th>V22</th>\n",
       "      <th>V23</th>\n",
       "      <th>V24</th>\n",
       "      <th>V25</th>\n",
       "      <th>V26</th>\n",
       "      <th>V27</th>\n",
       "      <th>V28</th>\n",
       "      <th>Amount</th>\n",
       "    </tr>\n",
       "  </thead>\n",
       "  <tbody>\n",
       "    <tr>\n",
       "      <th>0</th>\n",
       "      <td>0.0</td>\n",
       "      <td>-1.359807</td>\n",
       "      <td>-0.072781</td>\n",
       "      <td>2.536347</td>\n",
       "      <td>1.378155</td>\n",
       "      <td>-0.338321</td>\n",
       "      <td>0.462388</td>\n",
       "      <td>0.239599</td>\n",
       "      <td>0.098698</td>\n",
       "      <td>0.363787</td>\n",
       "      <td>...</td>\n",
       "      <td>0.251412</td>\n",
       "      <td>-0.018307</td>\n",
       "      <td>0.277838</td>\n",
       "      <td>-0.110474</td>\n",
       "      <td>0.066928</td>\n",
       "      <td>0.128539</td>\n",
       "      <td>-0.189115</td>\n",
       "      <td>0.133558</td>\n",
       "      <td>-0.021053</td>\n",
       "      <td>149.62</td>\n",
       "    </tr>\n",
       "    <tr>\n",
       "      <th>1</th>\n",
       "      <td>0.0</td>\n",
       "      <td>1.191857</td>\n",
       "      <td>0.266151</td>\n",
       "      <td>0.166480</td>\n",
       "      <td>0.448154</td>\n",
       "      <td>0.060018</td>\n",
       "      <td>-0.082361</td>\n",
       "      <td>-0.078803</td>\n",
       "      <td>0.085102</td>\n",
       "      <td>-0.255425</td>\n",
       "      <td>...</td>\n",
       "      <td>-0.069083</td>\n",
       "      <td>-0.225775</td>\n",
       "      <td>-0.638672</td>\n",
       "      <td>0.101288</td>\n",
       "      <td>-0.339846</td>\n",
       "      <td>0.167170</td>\n",
       "      <td>0.125895</td>\n",
       "      <td>-0.008983</td>\n",
       "      <td>0.014724</td>\n",
       "      <td>2.69</td>\n",
       "    </tr>\n",
       "    <tr>\n",
       "      <th>2</th>\n",
       "      <td>1.0</td>\n",
       "      <td>-1.358354</td>\n",
       "      <td>-1.340163</td>\n",
       "      <td>1.773209</td>\n",
       "      <td>0.379780</td>\n",
       "      <td>-0.503198</td>\n",
       "      <td>1.800499</td>\n",
       "      <td>0.791461</td>\n",
       "      <td>0.247676</td>\n",
       "      <td>-1.514654</td>\n",
       "      <td>...</td>\n",
       "      <td>0.524980</td>\n",
       "      <td>0.247998</td>\n",
       "      <td>0.771679</td>\n",
       "      <td>0.909412</td>\n",
       "      <td>-0.689281</td>\n",
       "      <td>-0.327642</td>\n",
       "      <td>-0.139097</td>\n",
       "      <td>-0.055353</td>\n",
       "      <td>-0.059752</td>\n",
       "      <td>378.66</td>\n",
       "    </tr>\n",
       "    <tr>\n",
       "      <th>3</th>\n",
       "      <td>1.0</td>\n",
       "      <td>-0.966272</td>\n",
       "      <td>-0.185226</td>\n",
       "      <td>1.792993</td>\n",
       "      <td>-0.863291</td>\n",
       "      <td>-0.010309</td>\n",
       "      <td>1.247203</td>\n",
       "      <td>0.237609</td>\n",
       "      <td>0.377436</td>\n",
       "      <td>-1.387024</td>\n",
       "      <td>...</td>\n",
       "      <td>-0.208038</td>\n",
       "      <td>-0.108300</td>\n",
       "      <td>0.005274</td>\n",
       "      <td>-0.190321</td>\n",
       "      <td>-1.175575</td>\n",
       "      <td>0.647376</td>\n",
       "      <td>-0.221929</td>\n",
       "      <td>0.062723</td>\n",
       "      <td>0.061458</td>\n",
       "      <td>123.50</td>\n",
       "    </tr>\n",
       "    <tr>\n",
       "      <th>4</th>\n",
       "      <td>2.0</td>\n",
       "      <td>-1.158233</td>\n",
       "      <td>0.877737</td>\n",
       "      <td>1.548718</td>\n",
       "      <td>0.403034</td>\n",
       "      <td>-0.407193</td>\n",
       "      <td>0.095921</td>\n",
       "      <td>0.592941</td>\n",
       "      <td>-0.270533</td>\n",
       "      <td>0.817739</td>\n",
       "      <td>...</td>\n",
       "      <td>0.408542</td>\n",
       "      <td>-0.009431</td>\n",
       "      <td>0.798278</td>\n",
       "      <td>-0.137458</td>\n",
       "      <td>0.141267</td>\n",
       "      <td>-0.206010</td>\n",
       "      <td>0.502292</td>\n",
       "      <td>0.219422</td>\n",
       "      <td>0.215153</td>\n",
       "      <td>69.99</td>\n",
       "    </tr>\n",
       "    <tr>\n",
       "      <th>...</th>\n",
       "      <td>...</td>\n",
       "      <td>...</td>\n",
       "      <td>...</td>\n",
       "      <td>...</td>\n",
       "      <td>...</td>\n",
       "      <td>...</td>\n",
       "      <td>...</td>\n",
       "      <td>...</td>\n",
       "      <td>...</td>\n",
       "      <td>...</td>\n",
       "      <td>...</td>\n",
       "      <td>...</td>\n",
       "      <td>...</td>\n",
       "      <td>...</td>\n",
       "      <td>...</td>\n",
       "      <td>...</td>\n",
       "      <td>...</td>\n",
       "      <td>...</td>\n",
       "      <td>...</td>\n",
       "      <td>...</td>\n",
       "      <td>...</td>\n",
       "    </tr>\n",
       "    <tr>\n",
       "      <th>284802</th>\n",
       "      <td>172786.0</td>\n",
       "      <td>-11.881118</td>\n",
       "      <td>10.071785</td>\n",
       "      <td>-9.834783</td>\n",
       "      <td>-2.066656</td>\n",
       "      <td>-5.364473</td>\n",
       "      <td>-2.606837</td>\n",
       "      <td>-4.918215</td>\n",
       "      <td>7.305334</td>\n",
       "      <td>1.914428</td>\n",
       "      <td>...</td>\n",
       "      <td>1.475829</td>\n",
       "      <td>0.213454</td>\n",
       "      <td>0.111864</td>\n",
       "      <td>1.014480</td>\n",
       "      <td>-0.509348</td>\n",
       "      <td>1.436807</td>\n",
       "      <td>0.250034</td>\n",
       "      <td>0.943651</td>\n",
       "      <td>0.823731</td>\n",
       "      <td>0.77</td>\n",
       "    </tr>\n",
       "    <tr>\n",
       "      <th>284803</th>\n",
       "      <td>172787.0</td>\n",
       "      <td>-0.732789</td>\n",
       "      <td>-0.055080</td>\n",
       "      <td>2.035030</td>\n",
       "      <td>-0.738589</td>\n",
       "      <td>0.868229</td>\n",
       "      <td>1.058415</td>\n",
       "      <td>0.024330</td>\n",
       "      <td>0.294869</td>\n",
       "      <td>0.584800</td>\n",
       "      <td>...</td>\n",
       "      <td>0.059616</td>\n",
       "      <td>0.214205</td>\n",
       "      <td>0.924384</td>\n",
       "      <td>0.012463</td>\n",
       "      <td>-1.016226</td>\n",
       "      <td>-0.606624</td>\n",
       "      <td>-0.395255</td>\n",
       "      <td>0.068472</td>\n",
       "      <td>-0.053527</td>\n",
       "      <td>24.79</td>\n",
       "    </tr>\n",
       "    <tr>\n",
       "      <th>284804</th>\n",
       "      <td>172788.0</td>\n",
       "      <td>1.919565</td>\n",
       "      <td>-0.301254</td>\n",
       "      <td>-3.249640</td>\n",
       "      <td>-0.557828</td>\n",
       "      <td>2.630515</td>\n",
       "      <td>3.031260</td>\n",
       "      <td>-0.296827</td>\n",
       "      <td>0.708417</td>\n",
       "      <td>0.432454</td>\n",
       "      <td>...</td>\n",
       "      <td>0.001396</td>\n",
       "      <td>0.232045</td>\n",
       "      <td>0.578229</td>\n",
       "      <td>-0.037501</td>\n",
       "      <td>0.640134</td>\n",
       "      <td>0.265745</td>\n",
       "      <td>-0.087371</td>\n",
       "      <td>0.004455</td>\n",
       "      <td>-0.026561</td>\n",
       "      <td>67.88</td>\n",
       "    </tr>\n",
       "    <tr>\n",
       "      <th>284805</th>\n",
       "      <td>172788.0</td>\n",
       "      <td>-0.240440</td>\n",
       "      <td>0.530483</td>\n",
       "      <td>0.702510</td>\n",
       "      <td>0.689799</td>\n",
       "      <td>-0.377961</td>\n",
       "      <td>0.623708</td>\n",
       "      <td>-0.686180</td>\n",
       "      <td>0.679145</td>\n",
       "      <td>0.392087</td>\n",
       "      <td>...</td>\n",
       "      <td>0.127434</td>\n",
       "      <td>0.265245</td>\n",
       "      <td>0.800049</td>\n",
       "      <td>-0.163298</td>\n",
       "      <td>0.123205</td>\n",
       "      <td>-0.569159</td>\n",
       "      <td>0.546668</td>\n",
       "      <td>0.108821</td>\n",
       "      <td>0.104533</td>\n",
       "      <td>10.00</td>\n",
       "    </tr>\n",
       "    <tr>\n",
       "      <th>284806</th>\n",
       "      <td>172792.0</td>\n",
       "      <td>-0.533413</td>\n",
       "      <td>-0.189733</td>\n",
       "      <td>0.703337</td>\n",
       "      <td>-0.506271</td>\n",
       "      <td>-0.012546</td>\n",
       "      <td>-0.649617</td>\n",
       "      <td>1.577006</td>\n",
       "      <td>-0.414650</td>\n",
       "      <td>0.486180</td>\n",
       "      <td>...</td>\n",
       "      <td>0.382948</td>\n",
       "      <td>0.261057</td>\n",
       "      <td>0.643078</td>\n",
       "      <td>0.376777</td>\n",
       "      <td>0.008797</td>\n",
       "      <td>-0.473649</td>\n",
       "      <td>-0.818267</td>\n",
       "      <td>-0.002415</td>\n",
       "      <td>0.013649</td>\n",
       "      <td>217.00</td>\n",
       "    </tr>\n",
       "  </tbody>\n",
       "</table>\n",
       "<p>284807 rows × 30 columns</p>\n",
       "</div>"
      ],
      "text/plain": [
       "            Time         V1         V2        V3        V4        V5  \\\n",
       "0            0.0  -1.359807  -0.072781  2.536347  1.378155 -0.338321   \n",
       "1            0.0   1.191857   0.266151  0.166480  0.448154  0.060018   \n",
       "2            1.0  -1.358354  -1.340163  1.773209  0.379780 -0.503198   \n",
       "3            1.0  -0.966272  -0.185226  1.792993 -0.863291 -0.010309   \n",
       "4            2.0  -1.158233   0.877737  1.548718  0.403034 -0.407193   \n",
       "...          ...        ...        ...       ...       ...       ...   \n",
       "284802  172786.0 -11.881118  10.071785 -9.834783 -2.066656 -5.364473   \n",
       "284803  172787.0  -0.732789  -0.055080  2.035030 -0.738589  0.868229   \n",
       "284804  172788.0   1.919565  -0.301254 -3.249640 -0.557828  2.630515   \n",
       "284805  172788.0  -0.240440   0.530483  0.702510  0.689799 -0.377961   \n",
       "284806  172792.0  -0.533413  -0.189733  0.703337 -0.506271 -0.012546   \n",
       "\n",
       "              V6        V7        V8        V9  ...       V20       V21  \\\n",
       "0       0.462388  0.239599  0.098698  0.363787  ...  0.251412 -0.018307   \n",
       "1      -0.082361 -0.078803  0.085102 -0.255425  ... -0.069083 -0.225775   \n",
       "2       1.800499  0.791461  0.247676 -1.514654  ...  0.524980  0.247998   \n",
       "3       1.247203  0.237609  0.377436 -1.387024  ... -0.208038 -0.108300   \n",
       "4       0.095921  0.592941 -0.270533  0.817739  ...  0.408542 -0.009431   \n",
       "...          ...       ...       ...       ...  ...       ...       ...   \n",
       "284802 -2.606837 -4.918215  7.305334  1.914428  ...  1.475829  0.213454   \n",
       "284803  1.058415  0.024330  0.294869  0.584800  ...  0.059616  0.214205   \n",
       "284804  3.031260 -0.296827  0.708417  0.432454  ...  0.001396  0.232045   \n",
       "284805  0.623708 -0.686180  0.679145  0.392087  ...  0.127434  0.265245   \n",
       "284806 -0.649617  1.577006 -0.414650  0.486180  ...  0.382948  0.261057   \n",
       "\n",
       "             V22       V23       V24       V25       V26       V27       V28  \\\n",
       "0       0.277838 -0.110474  0.066928  0.128539 -0.189115  0.133558 -0.021053   \n",
       "1      -0.638672  0.101288 -0.339846  0.167170  0.125895 -0.008983  0.014724   \n",
       "2       0.771679  0.909412 -0.689281 -0.327642 -0.139097 -0.055353 -0.059752   \n",
       "3       0.005274 -0.190321 -1.175575  0.647376 -0.221929  0.062723  0.061458   \n",
       "4       0.798278 -0.137458  0.141267 -0.206010  0.502292  0.219422  0.215153   \n",
       "...          ...       ...       ...       ...       ...       ...       ...   \n",
       "284802  0.111864  1.014480 -0.509348  1.436807  0.250034  0.943651  0.823731   \n",
       "284803  0.924384  0.012463 -1.016226 -0.606624 -0.395255  0.068472 -0.053527   \n",
       "284804  0.578229 -0.037501  0.640134  0.265745 -0.087371  0.004455 -0.026561   \n",
       "284805  0.800049 -0.163298  0.123205 -0.569159  0.546668  0.108821  0.104533   \n",
       "284806  0.643078  0.376777  0.008797 -0.473649 -0.818267 -0.002415  0.013649   \n",
       "\n",
       "        Amount  \n",
       "0       149.62  \n",
       "1         2.69  \n",
       "2       378.66  \n",
       "3       123.50  \n",
       "4        69.99  \n",
       "...        ...  \n",
       "284802    0.77  \n",
       "284803   24.79  \n",
       "284804   67.88  \n",
       "284805   10.00  \n",
       "284806  217.00  \n",
       "\n",
       "[284807 rows x 30 columns]"
      ]
     },
     "execution_count": 24,
     "metadata": {},
     "output_type": "execute_result"
    }
   ],
   "source": [
    "x=df[(['Time', 'V1', 'V2', 'V3', 'V4', 'V5', 'V6', 'V7', 'V8', 'V9', 'V10',\n",
    "       'V11', 'V12', 'V13', 'V14', 'V15', 'V16', 'V17', 'V18', 'V19', 'V20',\n",
    "       'V21', 'V22', 'V23', 'V24', 'V25', 'V26', 'V27', 'V28', 'Amount'])]\n",
    "x"
   ]
  },
  {
   "cell_type": "code",
   "execution_count": 25,
   "id": "e0a64a53",
   "metadata": {
    "execution": {
     "iopub.execute_input": "2021-07-23T15:03:32.933661Z",
     "iopub.status.busy": "2021-07-23T15:03:32.932900Z",
     "iopub.status.idle": "2021-07-23T15:03:32.940599Z",
     "shell.execute_reply": "2021-07-23T15:03:32.941152Z",
     "shell.execute_reply.started": "2021-07-23T15:01:41.344836Z"
    },
    "papermill": {
     "duration": 0.054067,
     "end_time": "2021-07-23T15:03:32.941363",
     "exception": false,
     "start_time": "2021-07-23T15:03:32.887296",
     "status": "completed"
    },
    "tags": []
   },
   "outputs": [
    {
     "data": {
      "text/plain": [
       "0         0\n",
       "1         0\n",
       "2         0\n",
       "3         0\n",
       "4         0\n",
       "         ..\n",
       "284802    0\n",
       "284803    0\n",
       "284804    0\n",
       "284805    0\n",
       "284806    0\n",
       "Name: Class, Length: 284807, dtype: int64"
      ]
     },
     "execution_count": 25,
     "metadata": {},
     "output_type": "execute_result"
    }
   ],
   "source": [
    "y = df['Class']\n",
    "y"
   ]
  },
  {
   "cell_type": "code",
   "execution_count": 26,
   "id": "6e39a277",
   "metadata": {
    "execution": {
     "iopub.execute_input": "2021-07-23T15:03:33.024839Z",
     "iopub.status.busy": "2021-07-23T15:03:33.024086Z",
     "iopub.status.idle": "2021-07-23T15:03:33.252769Z",
     "shell.execute_reply": "2021-07-23T15:03:33.253388Z",
     "shell.execute_reply.started": "2021-07-23T15:01:41.356783Z"
    },
    "papermill": {
     "duration": 0.27215,
     "end_time": "2021-07-23T15:03:33.253680",
     "exception": false,
     "start_time": "2021-07-23T15:03:32.981530",
     "status": "completed"
    },
    "tags": []
   },
   "outputs": [],
   "source": [
    "\n",
    "\n",
    "xtrain,xtest,ytrain,ytest= train_test_split(x , y ,test_size=0.25,random_state=42)\n"
   ]
  },
  {
   "cell_type": "code",
   "execution_count": 27,
   "id": "89237e91",
   "metadata": {
    "execution": {
     "iopub.execute_input": "2021-07-23T15:03:33.342890Z",
     "iopub.status.busy": "2021-07-23T15:03:33.342188Z",
     "iopub.status.idle": "2021-07-23T15:03:33.778944Z",
     "shell.execute_reply": "2021-07-23T15:03:33.778231Z",
     "shell.execute_reply.started": "2021-07-23T15:01:41.503130Z"
    },
    "papermill": {
     "duration": 0.48386,
     "end_time": "2021-07-23T15:03:33.779161",
     "exception": false,
     "start_time": "2021-07-23T15:03:33.295301",
     "status": "completed"
    },
    "tags": []
   },
   "outputs": [
    {
     "data": {
      "text/plain": [
       "LinearRegression()"
      ]
     },
     "execution_count": 27,
     "metadata": {},
     "output_type": "execute_result"
    }
   ],
   "source": [
    "from sklearn.linear_model import LinearRegression\n",
    "from sklearn.linear_model import LogisticRegression\n",
    "model=  LinearRegression()\n",
    "#model=  LogisticRegression()\n",
    "model.fit(xtrain,ytrain)"
   ]
  },
  {
   "cell_type": "code",
   "execution_count": 28,
   "id": "adb39076",
   "metadata": {
    "execution": {
     "iopub.execute_input": "2021-07-23T15:03:33.876308Z",
     "iopub.status.busy": "2021-07-23T15:03:33.875449Z",
     "iopub.status.idle": "2021-07-23T15:03:33.897494Z",
     "shell.execute_reply": "2021-07-23T15:03:33.898895Z",
     "shell.execute_reply.started": "2021-07-23T15:01:41.739319Z"
    },
    "papermill": {
     "duration": 0.07638,
     "end_time": "2021-07-23T15:03:33.899390",
     "exception": false,
     "start_time": "2021-07-23T15:03:33.823010",
     "status": "completed"
    },
    "tags": []
   },
   "outputs": [],
   "source": [
    "\n",
    "y_pred= model.predict(xtest)\n",
    "accuracy= model.score(xtest,ytest) \n"
   ]
  },
  {
   "cell_type": "code",
   "execution_count": null,
   "id": "c8fb1867",
   "metadata": {
    "papermill": {
     "duration": 0.056509,
     "end_time": "2021-07-23T15:03:34.034078",
     "exception": false,
     "start_time": "2021-07-23T15:03:33.977569",
     "status": "completed"
    },
    "tags": []
   },
   "outputs": [],
   "source": []
  },
  {
   "cell_type": "code",
   "execution_count": 29,
   "id": "db912a3f",
   "metadata": {
    "execution": {
     "iopub.execute_input": "2021-07-23T15:03:34.121622Z",
     "iopub.status.busy": "2021-07-23T15:03:34.120809Z",
     "iopub.status.idle": "2021-07-23T15:03:34.132840Z",
     "shell.execute_reply": "2021-07-23T15:03:34.133399Z",
     "shell.execute_reply.started": "2021-07-23T15:01:41.768276Z"
    },
    "papermill": {
     "duration": 0.059027,
     "end_time": "2021-07-23T15:03:34.133641",
     "exception": false,
     "start_time": "2021-07-23T15:03:34.074614",
     "status": "completed"
    },
    "tags": []
   },
   "outputs": [
    {
     "data": {
      "text/html": [
       "<div>\n",
       "<style scoped>\n",
       "    .dataframe tbody tr th:only-of-type {\n",
       "        vertical-align: middle;\n",
       "    }\n",
       "\n",
       "    .dataframe tbody tr th {\n",
       "        vertical-align: top;\n",
       "    }\n",
       "\n",
       "    .dataframe thead th {\n",
       "        text-align: right;\n",
       "    }\n",
       "</style>\n",
       "<table border=\"1\" class=\"dataframe\">\n",
       "  <thead>\n",
       "    <tr style=\"text-align: right;\">\n",
       "      <th></th>\n",
       "      <th>actual</th>\n",
       "      <th>prediction</th>\n",
       "    </tr>\n",
       "  </thead>\n",
       "  <tbody>\n",
       "    <tr>\n",
       "      <th>43428</th>\n",
       "      <td>1</td>\n",
       "      <td>1.246771</td>\n",
       "    </tr>\n",
       "    <tr>\n",
       "      <th>49906</th>\n",
       "      <td>0</td>\n",
       "      <td>-0.000536</td>\n",
       "    </tr>\n",
       "    <tr>\n",
       "      <th>29474</th>\n",
       "      <td>0</td>\n",
       "      <td>-0.000695</td>\n",
       "    </tr>\n",
       "    <tr>\n",
       "      <th>276481</th>\n",
       "      <td>0</td>\n",
       "      <td>0.003021</td>\n",
       "    </tr>\n",
       "    <tr>\n",
       "      <th>278846</th>\n",
       "      <td>0</td>\n",
       "      <td>-0.001640</td>\n",
       "    </tr>\n",
       "    <tr>\n",
       "      <th>...</th>\n",
       "      <td>...</td>\n",
       "      <td>...</td>\n",
       "    </tr>\n",
       "    <tr>\n",
       "      <th>234953</th>\n",
       "      <td>0</td>\n",
       "      <td>-0.001451</td>\n",
       "    </tr>\n",
       "    <tr>\n",
       "      <th>235147</th>\n",
       "      <td>0</td>\n",
       "      <td>0.001877</td>\n",
       "    </tr>\n",
       "    <tr>\n",
       "      <th>199459</th>\n",
       "      <td>0</td>\n",
       "      <td>-0.002099</td>\n",
       "    </tr>\n",
       "    <tr>\n",
       "      <th>172357</th>\n",
       "      <td>0</td>\n",
       "      <td>0.002255</td>\n",
       "    </tr>\n",
       "    <tr>\n",
       "      <th>110731</th>\n",
       "      <td>0</td>\n",
       "      <td>0.000093</td>\n",
       "    </tr>\n",
       "  </tbody>\n",
       "</table>\n",
       "<p>71202 rows × 2 columns</p>\n",
       "</div>"
      ],
      "text/plain": [
       "        actual  prediction\n",
       "43428        1    1.246771\n",
       "49906        0   -0.000536\n",
       "29474        0   -0.000695\n",
       "276481       0    0.003021\n",
       "278846       0   -0.001640\n",
       "...        ...         ...\n",
       "234953       0   -0.001451\n",
       "235147       0    0.001877\n",
       "199459       0   -0.002099\n",
       "172357       0    0.002255\n",
       "110731       0    0.000093\n",
       "\n",
       "[71202 rows x 2 columns]"
      ]
     },
     "execution_count": 29,
     "metadata": {},
     "output_type": "execute_result"
    }
   ],
   "source": [
    "df=pd.DataFrame({\"actual\": ytest, \"prediction\": y_pred})\n",
    "df"
   ]
  },
  {
   "cell_type": "code",
   "execution_count": 30,
   "id": "55f963af",
   "metadata": {
    "execution": {
     "iopub.execute_input": "2021-07-23T15:03:34.219515Z",
     "iopub.status.busy": "2021-07-23T15:03:34.218857Z",
     "iopub.status.idle": "2021-07-23T15:03:34.224240Z",
     "shell.execute_reply": "2021-07-23T15:03:34.224703Z",
     "shell.execute_reply.started": "2021-07-23T15:01:41.797936Z"
    },
    "papermill": {
     "duration": 0.049679,
     "end_time": "2021-07-23T15:03:34.224907",
     "exception": false,
     "start_time": "2021-07-23T15:03:34.175228",
     "status": "completed"
    },
    "tags": []
   },
   "outputs": [
    {
     "name": "stdout",
     "output_type": "stream",
     "text": [
      "0.4983213409002667\n"
     ]
    }
   ],
   "source": [
    "print(accuracy)"
   ]
  }
 ],
 "metadata": {
  "kernelspec": {
   "display_name": "Python 3",
   "language": "python",
   "name": "python3"
  },
  "language_info": {
   "codemirror_mode": {
    "name": "ipython",
    "version": 3
   },
   "file_extension": ".py",
   "mimetype": "text/x-python",
   "name": "python",
   "nbconvert_exporter": "python",
   "pygments_lexer": "ipython3",
   "version": "3.7.10"
  },
  "papermill": {
   "default_parameters": {},
   "duration": 32.905314,
   "end_time": "2021-07-23T15:03:35.608505",
   "environment_variables": {},
   "exception": null,
   "input_path": "__notebook__.ipynb",
   "output_path": "__notebook__.ipynb",
   "parameters": {},
   "start_time": "2021-07-23T15:03:02.703191",
   "version": "2.3.3"
  }
 },
 "nbformat": 4,
 "nbformat_minor": 5
}
